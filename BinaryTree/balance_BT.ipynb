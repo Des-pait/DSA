{
 "cells": [
  {
   "cell_type": "code",
   "execution_count": 39,
   "metadata": {},
   "outputs": [],
   "source": [
    "import BinaryTree.binarytree1 as binarytree1\n",
    "root = binarytree1.root\n"
   ]
  },
  {
   "cell_type": "markdown",
   "metadata": {},
   "source": [
    "***A Binary tree can be concluded as balanced if all its Node follows lh-rh <= 1 ***"
   ]
  },
  {
   "cell_type": "code",
   "execution_count": 42,
   "metadata": {},
   "outputs": [
    {
     "name": "stdout",
     "output_type": "stream",
     "text": [
      "True\n"
     ]
    }
   ],
   "source": [
    "def balanced(root,):\n",
    "    if root == None:\n",
    "        return 0\n",
    "    lh = balanced(root.left)\n",
    "    rh = balanced(root.right)\n",
    "    if abs(lh-rh)>1:\n",
    "        return -1\n",
    "    return 1+max(lh,rh)\n",
    "\n",
    "print(bool(balanced(root)!=-1))"
   ]
  },
  {
   "cell_type": "code",
   "execution_count": null,
   "metadata": {},
   "outputs": [],
   "source": []
  }
 ],
 "metadata": {
  "kernelspec": {
   "display_name": "dsavenv",
   "language": "python",
   "name": "python3"
  },
  "language_info": {
   "codemirror_mode": {
    "name": "ipython",
    "version": 3
   },
   "file_extension": ".py",
   "mimetype": "text/x-python",
   "name": "python",
   "nbconvert_exporter": "python",
   "pygments_lexer": "ipython3",
   "version": "3.12.3"
  }
 },
 "nbformat": 4,
 "nbformat_minor": 2
}
