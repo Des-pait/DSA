{
 "cells": [
  {
   "cell_type": "markdown",
   "metadata": {},
   "source": [
    "length of Lonest path in Binary tree\n",
    "\n",
    "-- Path is not necessary to pass through root node\n",
    "\n",
    "--for each node diameter == lh+rh"
   ]
  },
  {
   "cell_type": "code",
   "execution_count": 3,
   "metadata": {},
   "outputs": [],
   "source": [
    "import BinaryTree.binarytree1 as bt\n",
    "root = bt.root"
   ]
  },
  {
   "cell_type": "code",
   "execution_count": 18,
   "metadata": {},
   "outputs": [
    {
     "data": {
      "text/plain": [
       "7"
      ]
     },
     "execution_count": 18,
     "metadata": {},
     "output_type": "execute_result"
    }
   ],
   "source": [
    "def diameter(root, mx):\n",
    "    if root is None:\n",
    "        return 0\n",
    "    lh = diameter(root.left, mx)\n",
    "    rh = diameter(root.right, mx)\n",
    "    mx[0] = max(mx[0],(lh+rh))\n",
    "    #print(mx)\n",
    "    return 1+max(lh,rh)\n",
    "\n",
    "mx = [0]\n",
    "diameter(root, mx)\n",
    "mx[0]"
   ]
  },
  {
   "cell_type": "code",
   "execution_count": 15,
   "metadata": {},
   "outputs": [
    {
     "name": "stdout",
     "output_type": "stream",
     "text": [
      "<binarytree.Node object at 0x76a1e5fdc710>\n"
     ]
    }
   ],
   "source": [
    "def trav(root, val):\n",
    "    if root is None:\n",
    "        return\n",
    "    if root.data == val:\n",
    "        return root\n",
    "    resl = trav(root.left, val)\n",
    "    if resl:\n",
    "        return resl\n",
    "    # print(root.data)\n",
    "    resr = trav(root.right, val)\n",
    "    if resr:\n",
    "        return resr\n",
    "    return None\n",
    "\n",
    "print(trav(root, 7))"
   ]
  },
  {
   "cell_type": "code",
   "execution_count": 20,
   "metadata": {},
   "outputs": [
    {
     "name": "stdout",
     "output_type": "stream",
     "text": [
      "7\n"
     ]
    }
   ],
   "source": [
    "x = int(input('enter the node value:' ))\n",
    "add = trav(root,x)\n",
    "\n",
    "mx = [0]\n",
    "diameter(add,mx)\n",
    "print(mx[0])"
   ]
  },
  {
   "cell_type": "code",
   "execution_count": null,
   "metadata": {},
   "outputs": [],
   "source": []
  },
  {
   "cell_type": "code",
   "execution_count": null,
   "metadata": {},
   "outputs": [],
   "source": []
  }
 ],
 "metadata": {
  "kernelspec": {
   "display_name": "dsavenv",
   "language": "python",
   "name": "python3"
  },
  "language_info": {
   "codemirror_mode": {
    "name": "ipython",
    "version": 3
   },
   "file_extension": ".py",
   "mimetype": "text/x-python",
   "name": "python",
   "nbconvert_exporter": "python",
   "pygments_lexer": "ipython3",
   "version": "3.12.3"
  }
 },
 "nbformat": 4,
 "nbformat_minor": 2
}
