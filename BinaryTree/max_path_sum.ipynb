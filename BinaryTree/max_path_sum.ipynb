{
 "cells": [
  {
   "cell_type": "markdown",
   "metadata": {},
   "source": [
    "*** Max Path sum aims to find out the path such that sum of that particualr path is highest across all paths from that particular node ***"
   ]
  },
  {
   "cell_type": "code",
   "execution_count": 1,
   "metadata": {},
   "outputs": [
    {
     "data": {
      "text/plain": [
       "<__main__.Node at 0x731565fafc50>"
      ]
     },
     "execution_count": 1,
     "metadata": {},
     "output_type": "execute_result"
    }
   ],
   "source": [
    "class Node:\n",
    "    def __init__(self, data):\n",
    "        self.data = data\n",
    "        self.left = None\n",
    "        self.right = None\n",
    "        \n",
    "\n",
    "# inserting in binary tree\n",
    "\n",
    "def insert(root, val, data, pos):\n",
    "    if root is None:\n",
    "        return Node(val)\n",
    "    \n",
    "    if root.data == val:\n",
    "        if pos == \"left\" and root.left == None:\n",
    "            root.left = Node(data)\n",
    "        elif pos == \"right\" and root.right == None:\n",
    "            root.right = Node(data)\n",
    "        else:\n",
    "            print(f\"{val} not found\")\n",
    "    else:\n",
    "        insert(root.left, val, data, pos)\n",
    "        insert(root.right, val, data, pos)\n",
    "\n",
    "    return root\n",
    "\n",
    "root = Node(1)\n",
    "insert(root, 1, 2, 'left')\n",
    "insert(root, 2, 3, 'left')\n",
    "insert(root, 2, 4, 'right')\n",
    "insert(root, 4, 6, 'right')\n",
    "insert(root, 4, 5, 'left')\n",
    "insert(root, 1, 7, 'right')"
   ]
  },
  {
   "cell_type": "code",
   "execution_count": 2,
   "metadata": {},
   "outputs": [
    {
     "name": "stdout",
     "output_type": "stream",
     "text": [
      "[1, 2, 3, 4, 5, 6, 7]\n"
     ]
    }
   ],
   "source": [
    "def Preorder_Trav(root):\n",
    "    if root is None :\n",
    "        return\n",
    "    lst.append(root.data)\n",
    "    Preorder_Trav(root.left)\n",
    "    Preorder_Trav(root.right)\n",
    "    return lst\n",
    "lst = []\n",
    "print(Preorder_Trav(root))"
   ]
  },
  {
   "cell_type": "code",
   "execution_count": 3,
   "metadata": {},
   "outputs": [],
   "source": [
    "def maxPathsum(root, mx):\n",
    "    if root is None:\n",
    "        return 0\n",
    "    \n",
    "    ls =  maxPathsum(root.left, mx)\n",
    "    rs =  maxPathsum(root.right, mx)\n",
    "    \n",
    "    mx[0] = max(mx[0], root.data + ls + rs)\n",
    "    \n",
    "    return root.data + max(ls, rs)\n"
   ]
  },
  {
   "cell_type": "code",
   "execution_count": 5,
   "metadata": {},
   "outputs": [
    {
     "name": "stdout",
     "output_type": "stream",
     "text": [
      "13\n",
      "20\n"
     ]
    }
   ],
   "source": [
    "\n",
    "mx = [0]\n",
    "\n",
    "print(maxPathsum(root, mx))\n",
    "print(mx[0])"
   ]
  }
 ],
 "metadata": {
  "kernelspec": {
   "display_name": "dsavenv",
   "language": "python",
   "name": "python3"
  },
  "language_info": {
   "codemirror_mode": {
    "name": "ipython",
    "version": 3
   },
   "file_extension": ".py",
   "mimetype": "text/x-python",
   "name": "python",
   "nbconvert_exporter": "python",
   "pygments_lexer": "ipython3",
   "version": "3.12.3"
  }
 },
 "nbformat": 4,
 "nbformat_minor": 2
}
