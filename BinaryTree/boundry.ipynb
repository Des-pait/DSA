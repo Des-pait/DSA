{
 "cells": [
  {
   "cell_type": "code",
   "execution_count": 74,
   "metadata": {},
   "outputs": [],
   "source": [
    "import binarytree1"
   ]
  },
  {
   "cell_type": "code",
   "execution_count": 75,
   "metadata": {},
   "outputs": [],
   "source": [
    "root = binarytree1.root"
   ]
  },
  {
   "cell_type": "code",
   "execution_count": 76,
   "metadata": {},
   "outputs": [],
   "source": [
    "def isleaf(root):\n",
    "    return bool(root.left==None and root.right==None)"
   ]
  },
  {
   "cell_type": "code",
   "execution_count": 87,
   "metadata": {},
   "outputs": [],
   "source": [
    "def leftbo(root):\n",
    "    if root is None:\n",
    "        return None\n",
    "    \n",
    "    stack = []\n",
    "    while root:\n",
    "        if isleaf(root):\n",
    "            return stack\n",
    "        stack.append(root.data)\n",
    "        root = root.left\n",
    "        if root is None:\n",
    "            root = root.right"
   ]
  },
  {
   "cell_type": "code",
   "execution_count": 88,
   "metadata": {},
   "outputs": [],
   "source": [
    "def rightbo(root):\n",
    "    if root is None:\n",
    "        return None\n",
    "    stack = []\n",
    "    while root:\n",
    "        if isleaf(root):\n",
    "            return stack[1:][::-1]\n",
    "        stack.append(root.data)\n",
    "        root = root.right\n",
    "        if root is None:\n",
    "            root = root.left\n"
   ]
  },
  {
   "cell_type": "code",
   "execution_count": 95,
   "metadata": {},
   "outputs": [],
   "source": [
    "lf = []\n",
    "def leafs(root):\n",
    "    if root is None:\n",
    "        return\n",
    "    if isleaf(root):\n",
    "        lf.append(root.data)\n",
    "    leafs(root.left)\n",
    "    leafs(root.right)\n",
    "    return lf\n",
    "    \n",
    "    "
   ]
  },
  {
   "cell_type": "code",
   "execution_count": 96,
   "metadata": {},
   "outputs": [
    {
     "name": "stdout",
     "output_type": "stream",
     "text": [
      "[1, 2, 4, 11, 12] [11, 5, 6, 7] [3]\n"
     ]
    },
    {
     "data": {
      "text/plain": [
       "1"
      ]
     },
     "execution_count": 96,
     "metadata": {},
     "output_type": "execute_result"
    }
   ],
   "source": [
    "print(leftbo(root), leafs(root), rightbo(root))\n",
    "root.data"
   ]
  },
  {
   "cell_type": "code",
   "execution_count": null,
   "metadata": {},
   "outputs": [],
   "source": []
  }
 ],
 "metadata": {
  "kernelspec": {
   "display_name": "dsavenv",
   "language": "python",
   "name": "python3"
  },
  "language_info": {
   "codemirror_mode": {
    "name": "ipython",
    "version": 3
   },
   "file_extension": ".py",
   "mimetype": "text/x-python",
   "name": "python",
   "nbconvert_exporter": "python",
   "pygments_lexer": "ipython3",
   "version": "3.12.3"
  }
 },
 "nbformat": 4,
 "nbformat_minor": 2
}
