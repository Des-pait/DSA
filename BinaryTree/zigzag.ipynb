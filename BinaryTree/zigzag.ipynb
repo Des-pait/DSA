{
 "cells": [
  {
   "cell_type": "markdown",
   "metadata": {},
   "source": [
    "** Zig-Zag traversal **"
   ]
  },
  {
   "cell_type": "code",
   "execution_count": 28,
   "metadata": {},
   "outputs": [],
   "source": [
    "import binarytree1 as bt1\n",
    "root = bt1.root"
   ]
  },
  {
   "cell_type": "code",
   "execution_count": 29,
   "metadata": {},
   "outputs": [
    {
     "name": "stdout",
     "output_type": "stream",
     "text": [
      "[[1], [3, 2], [4, 5, 6, 7], [11], [12], [11]]\n"
     ]
    }
   ],
   "source": [
    "def zigZag(root):\n",
    "    res = []\n",
    "    q = [root]\n",
    "    flag = 0\n",
    "    while q :\n",
    "        size = len(q)\n",
    "        lst = []\n",
    "        for _ in range(size):\n",
    "            x = q.pop(0)\n",
    "            lst.append(x.data)\n",
    "            if x.left:\n",
    "                q.append(x.left)\n",
    "            if x.right:\n",
    "                q.append(x.right)\n",
    "        if flag == 0:\n",
    "            res.append(lst)\n",
    "        else:\n",
    "            res.append(lst[::-1])\n",
    "        flag = 1 - flag\n",
    "\n",
    "    return res\n",
    "\n",
    "print(zigZag(root))"
   ]
  },
  {
   "cell_type": "code",
   "execution_count": null,
   "metadata": {},
   "outputs": [],
   "source": []
  }
 ],
 "metadata": {
  "kernelspec": {
   "display_name": "dsavenv",
   "language": "python",
   "name": "python3"
  },
  "language_info": {
   "codemirror_mode": {
    "name": "ipython",
    "version": 3
   },
   "file_extension": ".py",
   "mimetype": "text/x-python",
   "name": "python",
   "nbconvert_exporter": "python",
   "pygments_lexer": "ipython3",
   "version": "3.12.3"
  }
 },
 "nbformat": 4,
 "nbformat_minor": 2
}
