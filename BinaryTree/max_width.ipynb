{
 "cells": [
  {
   "cell_type": "code",
   "execution_count": 2,
   "metadata": {},
   "outputs": [],
   "source": [
    "import binarytree1 as bt\n",
    "root = bt.root"
   ]
  },
  {
   "cell_type": "code",
   "execution_count": 14,
   "metadata": {},
   "outputs": [],
   "source": [
    "from collections import deque\n",
    "\n",
    "def maxWidth(root):\n",
    "    if root is None:\n",
    "        return 0\n",
    "\n",
    "    queue = deque([(root, 0)])\n",
    "    max_width = 0\n",
    "\n",
    "    while queue:\n",
    "        level_size = len(queue)\n",
    "        _, first_index = queue[0]\n",
    "        _, last_index = queue[-1]\n",
    "        max_width = max(max_width, last_index - first_index + 1)\n",
    "\n",
    "        for _ in range(level_size):\n",
    "            node, index = queue.popleft()\n",
    "\n",
    "            if node.left:\n",
    "                queue.append((node.left, 2 * index + 1))\n",
    "            if node.right:\n",
    "                queue.append((node.right, 2 * index + 2))\n",
    "\n",
    "    return max_width\n"
   ]
  },
  {
   "cell_type": "code",
   "execution_count": 15,
   "metadata": {},
   "outputs": [
    {
     "name": "stdout",
     "output_type": "stream",
     "text": [
      "4\n"
     ]
    }
   ],
   "source": [
    "print(maxWidth(root))"
   ]
  }
 ],
 "metadata": {
  "kernelspec": {
   "display_name": "dsavenv",
   "language": "python",
   "name": "python3"
  },
  "language_info": {
   "codemirror_mode": {
    "name": "ipython",
    "version": 3
   },
   "file_extension": ".py",
   "mimetype": "text/x-python",
   "name": "python",
   "nbconvert_exporter": "python",
   "pygments_lexer": "ipython3",
   "version": "3.12.3"
  }
 },
 "nbformat": 4,
 "nbformat_minor": 2
}
