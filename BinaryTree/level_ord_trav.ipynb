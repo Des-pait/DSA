{
 "cells": [
  {
   "cell_type": "code",
   "execution_count": 1,
   "metadata": {},
   "outputs": [],
   "source": [
    "class Node:\n",
    "    def __init__(self,data):\n",
    "        self.val = data\n",
    "        self.left = None\n",
    "        self.right = None\n",
    "\n",
    "# inserting in binary tree\n",
    "\n",
    "def insert(root, val, data, pos):\n",
    "    if root is None:\n",
    "        return Node(val)\n",
    "    \n",
    "    if root.val == val:\n",
    "        if pos == \"left\" and root.left == None:\n",
    "            root.left = Node(data)\n",
    "        elif pos == \"right\" and root.right == None:\n",
    "            root.right = Node(data)\n",
    "        else:\n",
    "            print(f\"{val} not found\")\n",
    "    else:\n",
    "        insert(root.left, val, data, pos)\n",
    "        insert(root.right, val, data, pos)\n",
    "\n",
    "    return root\n",
    "\n",
    "    "
   ]
  },
  {
   "cell_type": "code",
   "execution_count": 3,
   "metadata": {},
   "outputs": [],
   "source": [
    "def trav(root):\n",
    "    if root is None:\n",
    "        return\n",
    "    print(root.val)\n",
    "    trav(root.left)\n",
    "    trav(root.right)"
   ]
  },
  {
   "cell_type": "code",
   "execution_count": 4,
   "metadata": {},
   "outputs": [],
   "source": [
    "root = Node(8)\n",
    "root = insert(root, 8, 6, \"left\")\n",
    "root = insert(root, 8, 10, \"right\")\n",
    "root = insert(root, 6, 4, \"left\")"
   ]
  },
  {
   "cell_type": "code",
   "execution_count": 5,
   "metadata": {},
   "outputs": [
    {
     "name": "stdout",
     "output_type": "stream",
     "text": [
      "8\n",
      "6\n",
      "4\n",
      "10\n",
      "None\n"
     ]
    }
   ],
   "source": [
    "print(trav(root))"
   ]
  },
  {
   "cell_type": "code",
   "execution_count": 6,
   "metadata": {},
   "outputs": [],
   "source": [
    "# level order traversal\n",
    "\n",
    "def levOrd(root):\n",
    "    q = []\n",
    "    q.append(root)\n",
    "    print(q)\n",
    "    result = []\n",
    "    while q:\n",
    "        lst = []\n",
    "        for _ in range(len(q)):\n",
    "            node = q.pop(0)\n",
    "            lst.append(node.val)\n",
    "            if node.left!= None:\n",
    "                q.append(node.left)\n",
    "            if node.right!= None:\n",
    "                q.append(node.right)\n",
    "        result.append(lst)\n",
    "    return result\n",
    "\n"
   ]
  },
  {
   "cell_type": "code",
   "execution_count": 7,
   "metadata": {},
   "outputs": [
    {
     "name": "stdout",
     "output_type": "stream",
     "text": [
      "[<__main__.Node object at 0x7e49867678c0>]\n",
      "[[8], [6, 10], [4]]\n"
     ]
    }
   ],
   "source": [
    "print(levOrd(root))"
   ]
  },
  {
   "cell_type": "code",
   "execution_count": null,
   "metadata": {},
   "outputs": [],
   "source": []
  }
 ],
 "metadata": {
  "kernelspec": {
   "display_name": "dsavenv",
   "language": "python",
   "name": "python3"
  },
  "language_info": {
   "codemirror_mode": {
    "name": "ipython",
    "version": 3
   },
   "file_extension": ".py",
   "mimetype": "text/x-python",
   "name": "python",
   "nbconvert_exporter": "python",
   "pygments_lexer": "ipython3",
   "version": "3.12.3"
  }
 },
 "nbformat": 4,
 "nbformat_minor": 2
}
