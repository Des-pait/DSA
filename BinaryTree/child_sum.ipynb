{
 "cells": [
  {
   "cell_type": "code",
   "execution_count": 1,
   "metadata": {},
   "outputs": [],
   "source": [
    "import binarytree2 as bt\n",
    "root = bt.root"
   ]
  },
  {
   "cell_type": "code",
   "execution_count": 2,
   "metadata": {},
   "outputs": [],
   "source": [
    "def childSum(root):\n",
    "    if root is None:\n",
    "        return 0\n",
    "\n",
    "    # Recursively update left and right subtrees\n",
    "    childSum(root.left)\n",
    "    childSum(root.right)\n",
    "\n",
    "    # Calculate sum of left and right child data\n",
    "    left_data = root.left.data if root.left else 0\n",
    "    right_data = root.right.data if root.right else 0\n",
    "\n",
    "    # If root’s data is less than sum of children, update root data\n",
    "    if left_data + right_data > root.data:\n",
    "        root.data = left_data + right_data\n",
    "    else:\n",
    "        # If root's data is greater, update the children accordingly\n",
    "        if root.left:\n",
    "            root.left.data = root.data\n",
    "        if root.right:\n",
    "            root.right.data = root.data\n",
    "\n",
    "    # Recurse again to propagate the changes downward\n",
    "    # childSum(root.left)\n",
    "    # childSum(root.right)\n"
   ]
  },
  {
   "cell_type": "code",
   "execution_count": 3,
   "metadata": {},
   "outputs": [],
   "source": [
    "def trav(root):\n",
    "    if root is None:\n",
    "        return\n",
    "    trav(root.left)\n",
    "    print(root.data)\n",
    "    trav(root.right)"
   ]
  },
  {
   "cell_type": "code",
   "execution_count": 4,
   "metadata": {},
   "outputs": [
    {
     "name": "stdout",
     "output_type": "stream",
     "text": [
      "11\n",
      "12\n",
      "11\n",
      "4\n",
      "2\n",
      "5\n",
      "1\n",
      "6\n",
      "3\n",
      "7\n",
      "None\n",
      "None\n",
      "12\n",
      "12\n",
      "12\n",
      "12\n",
      "17\n",
      "5\n",
      "30\n",
      "6\n",
      "13\n",
      "7\n",
      "None\n"
     ]
    }
   ],
   "source": [
    "print(trav(root))\n",
    "print(childSum(root))\n",
    "print(trav(root))"
   ]
  },
  {
   "cell_type": "code",
   "execution_count": null,
   "metadata": {},
   "outputs": [],
   "source": []
  }
 ],
 "metadata": {
  "kernelspec": {
   "display_name": "dsavenv",
   "language": "python",
   "name": "python3"
  },
  "language_info": {
   "codemirror_mode": {
    "name": "ipython",
    "version": 3
   },
   "file_extension": ".py",
   "mimetype": "text/x-python",
   "name": "python",
   "nbconvert_exporter": "python",
   "pygments_lexer": "ipython3",
   "version": "3.12.3"
  }
 },
 "nbformat": 4,
 "nbformat_minor": 2
}
