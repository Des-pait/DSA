{
 "cells": [
  {
   "cell_type": "code",
   "execution_count": 2,
   "metadata": {},
   "outputs": [
    {
     "data": {
      "text/plain": [
       "<binarytree1.Node at 0x7536a25fb200>"
      ]
     },
     "execution_count": 2,
     "metadata": {},
     "output_type": "execute_result"
    }
   ],
   "source": [
    "import binarytree1 as bt\n",
    "root = bt.root\n",
    "root"
   ]
  },
  {
   "cell_type": "code",
   "execution_count": 9,
   "metadata": {},
   "outputs": [],
   "source": [
    "def leftView(root):\n",
    "    if root is None:\n",
    "        return None\n",
    "    lst = []\n",
    "    di = {}\n",
    "    tag = 0\n",
    "    lst.append([root, tag])\n",
    "    while lst:\n",
    "        tag = tag + 1\n",
    "        q = len(lst)\n",
    "        for _ in range(q):\n",
    "            v, t = lst.pop(0)\n",
    "            if v.left != None:\n",
    "                lst.append([v.left, tag])\n",
    "            if v.right != None:\n",
    "                lst.append([v.right, tag])\n",
    "            if tag not in di.keys():\n",
    "                di[tag]=v.data\n",
    "    return dict(sorted(di.items(), key=lambda item:item[0]))\n",
    "\n",
    "            "
   ]
  },
  {
   "cell_type": "code",
   "execution_count": 10,
   "metadata": {},
   "outputs": [
    {
     "name": "stdout",
     "output_type": "stream",
     "text": [
      "{1: 1, 2: 2, 3: 4, 4: 11, 5: 12, 6: 11}\n"
     ]
    }
   ],
   "source": [
    "print(leftView(root))"
   ]
  }
 ],
 "metadata": {
  "kernelspec": {
   "display_name": "dsavenv",
   "language": "python",
   "name": "python3"
  },
  "language_info": {
   "codemirror_mode": {
    "name": "ipython",
    "version": 3
   },
   "file_extension": ".py",
   "mimetype": "text/x-python",
   "name": "python",
   "nbconvert_exporter": "python",
   "pygments_lexer": "ipython3",
   "version": "3.12.3"
  }
 },
 "nbformat": 4,
 "nbformat_minor": 2
}
