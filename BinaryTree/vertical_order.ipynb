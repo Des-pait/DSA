{
 "cells": [
  {
   "cell_type": "code",
   "execution_count": 2,
   "metadata": {},
   "outputs": [],
   "source": [
    "import binarytree1 as bt1\n",
    "root = bt1.root"
   ]
  },
  {
   "cell_type": "code",
   "execution_count": 30,
   "metadata": {},
   "outputs": [],
   "source": [
    "def vertical_ord(root):\n",
    "    if root is None:\n",
    "        return None\n",
    "    lst = [[root,[0,0]]]\n",
    "    res = []\n",
    "    while lst:\n",
    "        el = lst.pop()\n",
    "        # print(el)\n",
    "        x = el[1][0]\n",
    "        y = el[1][1]\n",
    "        el = el[0]\n",
    "        # print(el)\n",
    "        if el:\n",
    "            res.append([el.data,[x,y]])\n",
    "            if root.left:\n",
    "                lst.append([el.left,[x-1,y+1]])\n",
    "            if root.right:\n",
    "                lst.append([el.right,[x+1,y+1]])\n",
    "    return res\n",
    "# print(vertical_ord(root))\n",
    "x = vertical_ord(root)\n",
    "new = {}\n",
    "for i in x:\n",
    "    new.setdefault(i[1][0], []).append(i[0])"
   ]
  },
  {
   "cell_type": "code",
   "execution_count": 32,
   "metadata": {},
   "outputs": [
    {
     "data": {
      "text/plain": [
       "{-5: [11], -4: [12], -3: [11], -2: [4], -1: [2], 0: [1, 6, 5], 1: [3], 2: [7]}"
      ]
     },
     "execution_count": 32,
     "metadata": {},
     "output_type": "execute_result"
    }
   ],
   "source": [
    "new = dict(sorted(new.items(), key=lambda item:item[0]))"
   ]
  },
  {
   "cell_type": "code",
   "execution_count": 33,
   "metadata": {},
   "outputs": [
    {
     "name": "stdout",
     "output_type": "stream",
     "text": [
      "{0: [1, 6, 5], 1: [3], 2: [7], -1: [2], -2: [4], -3: [11], -4: [12], -5: [11]}\n"
     ]
    }
   ],
   "source": [
    "print(new)\n"
   ]
  }
 ],
 "metadata": {
  "kernelspec": {
   "display_name": "dsavenv",
   "language": "python",
   "name": "python3"
  },
  "language_info": {
   "codemirror_mode": {
    "name": "ipython",
    "version": 3
   },
   "file_extension": ".py",
   "mimetype": "text/x-python",
   "name": "python",
   "nbconvert_exporter": "python",
   "pygments_lexer": "ipython3",
   "version": "3.12.3"
  }
 },
 "nbformat": 4,
 "nbformat_minor": 2
}
