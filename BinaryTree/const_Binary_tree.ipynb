{
 "cells": [
  {
   "cell_type": "markdown",
   "metadata": {},
   "source": [
    "** Construction of Binary Tree **"
   ]
  },
  {
   "cell_type": "code",
   "execution_count": 1,
   "metadata": {},
   "outputs": [],
   "source": [
    "class Node:\n",
    "    def __init__(self, data):\n",
    "        self.data = data\n",
    "        self.left = None\n",
    "        self.right = None\n",
    "\n",
    "root = Node(1)\n",
    "root.left = Node(2)\n",
    "root.right = Node(3)\n",
    "root.left.left = Node(4)\n",
    "root.left.right = Node(5)\n",
    "root.right.left = Node(6)\n",
    "root.right.right = Node(7)"
   ]
  },
  {
   "cell_type": "markdown",
   "metadata": {},
   "source": [
    "** Preorder Traversal of binary tree  **\n",
    "\n",
    "Root -> Left -> Right"
   ]
  },
  {
   "cell_type": "code",
   "execution_count": 2,
   "metadata": {},
   "outputs": [
    {
     "name": "stdout",
     "output_type": "stream",
     "text": [
      "[1, 2, 4, 5, 3, 6, 7]\n"
     ]
    }
   ],
   "source": [
    "#  recurcive\n",
    "\n",
    "def Preorder_Trav(root):\n",
    "    if root is None :\n",
    "        return\n",
    "    print(root.data)\n",
    "\n",
    "    Preorder_Trav(root.left)\n",
    "    Preorder_Trav(root.right)\n",
    "    \n",
    "# print(Preorder_Trav(root))\n",
    "\n",
    "#  iterative \n",
    "\n",
    "def ipre(root):\n",
    "    res = []\n",
    "    lst = []\n",
    "    lst.append(root)\n",
    "    while len(lst)!=0:\n",
    "        x = lst.pop()\n",
    "        res.append(x.data)\n",
    "        if x.right != None:\n",
    "            lst.append(x.right)\n",
    "        if x.left!=None:\n",
    "            lst.append(x.left)\n",
    "    return res\n",
    "\n",
    "print(ipre(root))"
   ]
  },
  {
   "cell_type": "markdown",
   "metadata": {},
   "source": [
    "** Inorder Traversal **\n",
    "left -> root -> right"
   ]
  },
  {
   "cell_type": "code",
   "execution_count": 3,
   "metadata": {},
   "outputs": [
    {
     "name": "stdout",
     "output_type": "stream",
     "text": [
      "4\n",
      "2\n",
      "5\n",
      "1\n",
      "6\n",
      "3\n",
      "7\n",
      "[4, 2, 5, 1, 6, 3, 7]\n"
     ]
    }
   ],
   "source": [
    "def Inorder_Trav(root):\n",
    "    if root is None :\n",
    "        return\n",
    "    Inorder_Trav(root.left)  \n",
    "\n",
    "    print(root.data)\n",
    "\n",
    "    Inorder_Trav(root.right)\n",
    "    \n",
    "Inorder_Trav(root)\n",
    "\n",
    "# iterative inorder_trav\n",
    "\n",
    "def Iinorder(root):\n",
    "    lst = []  \n",
    "    res = []\n",
    "    current = root\n",
    "    \n",
    "    while current or lst:\n",
    "        while current:\n",
    "            lst.append(current)\n",
    "            current = current.left\n",
    "        \n",
    "        current = lst.pop()\n",
    "        res.append(current.data)\n",
    "        \n",
    "        current = current.right\n",
    "    \n",
    "    return res\n",
    "\n",
    "\n",
    "print(Iinorder(root))\n"
   ]
  },
  {
   "cell_type": "code",
   "execution_count": 4,
   "metadata": {},
   "outputs": [
    {
     "data": {
      "text/plain": [
       "[4, 5, 2, 6, 7, 3, 1]"
      ]
     },
     "execution_count": 4,
     "metadata": {},
     "output_type": "execute_result"
    }
   ],
   "source": [
    "# def Postorder_Trav(root):\n",
    "#     if root is None :\n",
    "#         return\n",
    "#     Postorder_Trav(root.left)  \n",
    "\n",
    "#     Postorder_Trav(root.right)\n",
    "    \n",
    "#     print(root.data)\n",
    "    \n",
    "# Postorder_Trav(root)\n",
    "\n",
    "def ipost(root):\n",
    "    res = []\n",
    "    lst = []\n",
    "    prev = None\n",
    "    curr = root\n",
    "    \n",
    "    while curr or lst:\n",
    "        while curr:\n",
    "            lst.append(curr)\n",
    "            curr = curr.left\n",
    "        \n",
    "        curr = lst[-1]\n",
    "        \n",
    "        if curr.right is None or curr.right == prev:\n",
    "            res.append(curr.data)\n",
    "            lst.pop()\n",
    "            prev = curr\n",
    "            curr = None\n",
    "        else:\n",
    "            curr = curr.right\n",
    "    \n",
    "    return res\n",
    "\n",
    "\n",
    "        # if curr.right != None:\n",
    "        #     curr = curr.right\n",
    "        \n",
    "ipost(root)\n",
    "\n",
    "# 4\n",
    "# 5\n",
    "# 2\n",
    "# 6\n",
    "# 7\n",
    "# 3\n",
    "# 1"
   ]
  },
  {
   "cell_type": "code",
   "execution_count": 6,
   "metadata": {},
   "outputs": [
    {
     "name": "stdout",
     "output_type": "stream",
     "text": [
      "3\n"
     ]
    }
   ],
   "source": [
    "LST = [1, 2, 3]\n",
    "print(LST.pop())\n"
   ]
  },
  {
   "cell_type": "code",
   "execution_count": null,
   "metadata": {},
   "outputs": [],
   "source": []
  }
 ],
 "metadata": {
  "kernelspec": {
   "display_name": "dsavenv",
   "language": "python",
   "name": "python3"
  },
  "language_info": {
   "codemirror_mode": {
    "name": "ipython",
    "version": 3
   },
   "file_extension": ".py",
   "mimetype": "text/x-python",
   "name": "python",
   "nbconvert_exporter": "python",
   "pygments_lexer": "ipython3",
   "version": "3.12.3"
  }
 },
 "nbformat": 4,
 "nbformat_minor": 2
}
