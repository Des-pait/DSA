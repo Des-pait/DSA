{
 "cells": [
  {
   "cell_type": "markdown",
   "metadata": {},
   "source": [
    "Print Path from ROOT to NODE:"
   ]
  },
  {
   "cell_type": "code",
   "execution_count": 30,
   "metadata": {},
   "outputs": [],
   "source": [
    "import binarytree1 as bt\n",
    "root = bt.root"
   ]
  },
  {
   "cell_type": "code",
   "execution_count": 36,
   "metadata": {},
   "outputs": [],
   "source": [
    "def pathnode(root, node, lst):\n",
    "    if root is None:\n",
    "        return False\n",
    "\n",
    "    lst.append(root.data)\n",
    "\n",
    "    if root.data == node:\n",
    "        return True\n",
    "\n",
    "    if (root.left and pathnode(root.left, node, lst)) or (root.right and pathnode(root.right, node, lst)):\n",
    "        return True\n",
    "\n",
    "    lst.pop()\n",
    "    return False"
   ]
  },
  {
   "cell_type": "code",
   "execution_count": 41,
   "metadata": {},
   "outputs": [
    {
     "name": "stdout",
     "output_type": "stream",
     "text": [
      "True [1, 3, 7]\n"
     ]
    }
   ],
   "source": [
    "lst = []\n",
    "print(pathnode(root, 7, lst), lst)"
   ]
  }
 ],
 "metadata": {
  "kernelspec": {
   "display_name": "dsavenv",
   "language": "python",
   "name": "python3"
  },
  "language_info": {
   "codemirror_mode": {
    "name": "ipython",
    "version": 3
   },
   "file_extension": ".py",
   "mimetype": "text/x-python",
   "name": "python",
   "nbconvert_exporter": "python",
   "pygments_lexer": "ipython3",
   "version": "3.12.3"
  }
 },
 "nbformat": 4,
 "nbformat_minor": 2
}
