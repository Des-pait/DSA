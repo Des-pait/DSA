{
 "cells": [
  {
   "cell_type": "code",
   "execution_count": 1,
   "metadata": {},
   "outputs": [
    {
     "data": {
      "text/plain": [
       "<binarytree1.Node at 0x7a35ce7c30b0>"
      ]
     },
     "execution_count": 1,
     "metadata": {},
     "output_type": "execute_result"
    }
   ],
   "source": [
    "import binarytree1 as bt1\n",
    "bt1 = bt1.root\n",
    "bt1"
   ]
  },
  {
   "cell_type": "code",
   "execution_count": 3,
   "metadata": {},
   "outputs": [
    {
     "name": "stdout",
     "output_type": "stream",
     "text": [
      "dict_values([11, 12, 11, 4, 2, 1, 3, 7])\n"
     ]
    }
   ],
   "source": [
    "def topView(root):\n",
    "    if root is None:\n",
    "        return\n",
    "    tag  = 0 \n",
    "    di = {}\n",
    "    lst = []\n",
    "    lst.append([root, tag])\n",
    "    \n",
    "    while lst :\n",
    "        q = len(lst)\n",
    "        for _ in range(q):\n",
    "            i, t = lst.pop(0)\n",
    "            # print(i, t)\n",
    "            if i.left != None:\n",
    "                tag = t-1\n",
    "                lst.append([i.left, tag])\n",
    "            if i.right != None:\n",
    "                tag = t+1\n",
    "                lst.append([i.right, tag])\n",
    "            if t not in di.keys():\n",
    "                di[t]=i.data\n",
    "    ans = dict(sorted(di.items(), key=lambda item:item[0]))\n",
    "    return ans\n",
    "\n"
   ]
  },
  {
   "cell_type": "code",
   "execution_count": 4,
   "metadata": {},
   "outputs": [
    {
     "name": "stdout",
     "output_type": "stream",
     "text": [
      "dict_values([11, 12, 11, 4, 2, 1, 3, 7])\n"
     ]
    }
   ],
   "source": [
    "print(topView(bt1).values())"
   ]
  }
 ],
 "metadata": {
  "kernelspec": {
   "display_name": "dsavenv",
   "language": "python",
   "name": "python3"
  },
  "language_info": {
   "codemirror_mode": {
    "name": "ipython",
    "version": 3
   },
   "file_extension": ".py",
   "mimetype": "text/x-python",
   "name": "python",
   "nbconvert_exporter": "python",
   "pygments_lexer": "ipython3",
   "version": "3.12.3"
  }
 },
 "nbformat": 4,
 "nbformat_minor": 2
}
