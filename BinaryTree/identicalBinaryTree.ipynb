{
 "cells": [
  {
   "cell_type": "markdown",
   "metadata": {},
   "source": [
    "*** Two tree can be concludeed as identical if both of them hav equal numbers of node at identical positions with identical values ***"
   ]
  },
  {
   "cell_type": "code",
   "execution_count": 21,
   "metadata": {},
   "outputs": [],
   "source": [
    "import binarytree1 as bt1\n",
    "import binarytree2 as bt2\n",
    "root1 = bt1.root\n",
    "root2 = bt2.root"
   ]
  },
  {
   "cell_type": "code",
   "execution_count": 22,
   "metadata": {},
   "outputs": [
    {
     "name": "stdout",
     "output_type": "stream",
     "text": [
      "[1, 2, 4, 11, 12, 11, 5, 3, 6, 7]\n",
      "[1, 2, 4, 11, 11, 11, 5, 3, 6, 7]\n"
     ]
    }
   ],
   "source": [
    "#  Just random\n",
    "\n",
    "def preorder(root, lst):\n",
    "    if root is None:\n",
    "        return\n",
    "    lst.append(root.data)\n",
    "    preorder(root.left, lst)\n",
    "    preorder(root.right, lst)\n",
    "    return lst\n",
    "\n",
    "print(preorder(root1, lst = []))\n",
    "print(preorder(root2, lst = []))"
   ]
  },
  {
   "cell_type": "code",
   "execution_count": 27,
   "metadata": {},
   "outputs": [
    {
     "name": "stdout",
     "output_type": "stream",
     "text": [
      "False\n"
     ]
    }
   ],
   "source": [
    "# Actual preorder\n",
    "def preorder(root1,root2):\n",
    "    if root1 is None or root2 is None:\n",
    "        return root1 == root2\n",
    "    check = bool(root1.data == root2.data)\n",
    "    if not check:\n",
    "        return False\n",
    "    return preorder(root1.left, root2.left) and preorder(root1.right, root2.right)\n",
    "\n",
    "\n",
    "    \n",
    "print(preorder(root1, root2))"
   ]
  },
  {
   "cell_type": "code",
   "execution_count": null,
   "metadata": {},
   "outputs": [],
   "source": []
  }
 ],
 "metadata": {
  "kernelspec": {
   "display_name": "dsavenv",
   "language": "python",
   "name": "python3"
  },
  "language_info": {
   "codemirror_mode": {
    "name": "ipython",
    "version": 3
   },
   "file_extension": ".py",
   "mimetype": "text/x-python",
   "name": "python",
   "nbconvert_exporter": "python",
   "pygments_lexer": "ipython3",
   "version": "3.12.3"
  }
 },
 "nbformat": 4,
 "nbformat_minor": 2
}
