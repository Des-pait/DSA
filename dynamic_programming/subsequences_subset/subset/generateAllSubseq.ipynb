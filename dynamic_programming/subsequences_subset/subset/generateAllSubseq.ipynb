{
 "cells": [
  {
   "cell_type": "markdown",
   "metadata": {},
   "source": [
    "Generate all the subsequence exist in the array"
   ]
  },
  {
   "cell_type": "code",
   "execution_count": 9,
   "metadata": {},
   "outputs": [
    {
     "name": "stdout",
     "output_type": "stream",
     "text": [
      "All subsequences of the array:\n",
      "[1, 2, 3]\n",
      "[1, 2]\n",
      "[1, 3]\n",
      "[1]\n",
      "[2, 3]\n",
      "[2]\n",
      "[3]\n",
      "[]\n"
     ]
    },
    {
     "data": {
      "text/plain": [
       "8"
      ]
     },
     "execution_count": 9,
     "metadata": {},
     "output_type": "execute_result"
    }
   ],
   "source": [
    "def print_subsequences(arr, index=0, current=[]):\n",
    "    if index == len(arr):\n",
    "        print(current)\n",
    "        return 1\n",
    "    total = 0\n",
    "    total += print_subsequences(arr, index + 1, current + [arr[index]])\n",
    "    \n",
    "    total += print_subsequences(arr, index + 1, current)\n",
    "\n",
    "    return total\n",
    "\n",
    "arr = [1, 2, 3]  # total no. of subsequences == 2**len(arr)\n",
    "print(\"All subsequences of the array:\")\n",
    "print_subsequences(arr)"
   ]
  },
  {
   "cell_type": "code",
   "execution_count": null,
   "metadata": {},
   "outputs": [],
   "source": []
  }
 ],
 "metadata": {
  "kernelspec": {
   "display_name": "dsavenv",
   "language": "python",
   "name": "python3"
  },
  "language_info": {
   "codemirror_mode": {
    "name": "ipython",
    "version": 3
   },
   "file_extension": ".py",
   "mimetype": "text/x-python",
   "name": "python",
   "nbconvert_exporter": "python",
   "pygments_lexer": "ipython3",
   "version": "3.12.3"
  }
 },
 "nbformat": 4,
 "nbformat_minor": 2
}
