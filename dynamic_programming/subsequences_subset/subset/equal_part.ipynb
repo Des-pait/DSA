{
 "cells": [
  {
   "cell_type": "markdown",
   "metadata": {},
   "source": [
    "Partition the given set equally such that sum of each subset Will be equal"
   ]
  },
  {
   "cell_type": "code",
   "execution_count": 30,
   "metadata": {},
   "outputs": [],
   "source": [
    "def eqPart(arr):\n",
    "    total = sum(arr)\n",
    "\n",
    "    if total%2 != 0:\n",
    "        return False\n",
    "    \n",
    "    idx = len(arr)\n",
    "\n",
    "    target = total//2\n",
    "\n",
    "    dp = [[-1]*(target+1) for _ in range(len(arr))]\n",
    "\n",
    "    def subsum(arr, idx, target, dp):\n",
    "        if target == 0:\n",
    "            return True\n",
    "        if idx == 0:\n",
    "            return arr[0] == target\n",
    "        if dp[idx][target] != -1:\n",
    "            return dp[idx][target]\n",
    "        \n",
    "        nottake = subsum(arr, idx-1, target, dp)\n",
    "        take = False\n",
    "        if arr[idx] <= target:\n",
    "            take = subsum(arr, idx-1, target-arr[idx], dp)\n",
    "        \n",
    "        dp[idx][target] = take or nottake\n",
    "        \n",
    "        return dp[idx][target]\n",
    "        \n",
    "    \n",
    "    return subsum(arr, idx-1, target, dp)"
   ]
  },
  {
   "cell_type": "code",
   "execution_count": 31,
   "metadata": {},
   "outputs": [
    {
     "data": {
      "text/plain": [
       "False"
      ]
     },
     "execution_count": 31,
     "metadata": {},
     "output_type": "execute_result"
    }
   ],
   "source": [
    "arr = [1, 3, 4, 7]\n",
    "eqPart(arr)"
   ]
  }
 ],
 "metadata": {
  "kernelspec": {
   "display_name": "dsavenv",
   "language": "python",
   "name": "python3"
  },
  "language_info": {
   "codemirror_mode": {
    "name": "ipython",
    "version": 3
   },
   "file_extension": ".py",
   "mimetype": "text/x-python",
   "name": "python",
   "nbconvert_exporter": "python",
   "pygments_lexer": "ipython3",
   "version": "3.12.3"
  }
 },
 "nbformat": 4,
 "nbformat_minor": 2
}
