{
 "cells": [
  {
   "cell_type": "code",
   "execution_count": 33,
   "metadata": {},
   "outputs": [
    {
     "data": {
      "text/plain": [
       "True"
      ]
     },
     "execution_count": 33,
     "metadata": {},
     "output_type": "execute_result"
    }
   ],
   "source": [
    "# <!-- Partition the given set equally such that sum of each subset Will be equal -->\n",
    "def eqPart(arr):\n",
    "    total = sum(arr)\n",
    "\n",
    "    if total%2 != 0:\n",
    "        return False\n",
    "    \n",
    "    idx = len(arr)\n",
    "\n",
    "    target = total//2\n",
    "\n",
    "    dp = [[-1]*(target+1) for _ in range(len(arr))]\n",
    "\n",
    "    def subsum(arr, idx, target, dp):\n",
    "        if target == 0:\n",
    "            return True\n",
    "        if idx == 0:\n",
    "            return arr[0] == target\n",
    "        if dp[idx][target] != -1:\n",
    "            return dp[idx][target]\n",
    "        \n",
    "        nottake = subsum(arr, idx-1, target, dp)\n",
    "        take = False\n",
    "        if arr[idx] <= target:\n",
    "            take = subsum(arr, idx-1, target-arr[idx], dp)\n",
    "        \n",
    "        dp[idx][target] = take or nottake\n",
    "        \n",
    "        return dp[idx][target]\n",
    "        \n",
    "    \n",
    "    return subsum(arr, idx-1, target, dp)\n",
    "    \n",
    "arr = [1, 2, 4, 7]\n",
    "eqPart(arr)"
   ]
  },
  {
   "cell_type": "code",
   "execution_count": null,
   "metadata": {},
   "outputs": [],
   "source": []
  }
 ],
 "metadata": {
  "language_info": {
   "name": "python"
  }
 },
 "nbformat": 4,
 "nbformat_minor": 2
}
