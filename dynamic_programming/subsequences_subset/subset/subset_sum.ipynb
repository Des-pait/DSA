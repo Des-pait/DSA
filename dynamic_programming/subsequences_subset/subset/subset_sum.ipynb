{
 "cells": [
  {
   "cell_type": "markdown",
   "metadata": {},
   "source": [
    "For a given array check if there exist a subsequence whose sum is equal to the given target:"
   ]
  },
  {
   "cell_type": "code",
   "execution_count": 160,
   "metadata": {},
   "outputs": [
    {
     "name": "stdout",
     "output_type": "stream",
     "text": [
      "True\n"
     ]
    }
   ],
   "source": [
    "def subsum(arr, idx, target, dp):\n",
    "    if target == 0:\n",
    "        return True\n",
    "    if idx == 0:\n",
    "        return arr[0] == target\n",
    "    if dp[idx][target] != -1:\n",
    "        return dp[idx][target]\n",
    "    \n",
    "    nottake = subsum(arr, idx-1, target, dp)\n",
    "    take = False\n",
    "    if arr[idx] <= target:\n",
    "        take = subsum(arr, idx-1, target-arr[idx], dp)\n",
    "    \n",
    "    dp[idx][target] = take or nottake\n",
    "    return dp[idx][target]\n",
    "\n",
    "arr = [1, 2, 3, 4]\n",
    "target = 5\n",
    "dp = [[-1] * (target + 1) for _ in range(len(arr))]\n",
    "\n",
    "result = subsum(arr, len(arr)-1, target, dp)\n",
    "print(result)\n",
    "\n"
   ]
  },
  {
   "cell_type": "code",
   "execution_count": 161,
   "metadata": {},
   "outputs": [
    {
     "name": "stdout",
     "output_type": "stream",
     "text": [
      "True\n"
     ]
    }
   ],
   "source": [
    "def tabulation(arr, target, dp):\n",
    "\n",
    "    for i in range(len(arr)):\n",
    "        dp[i][0] = True \n",
    "\n",
    "    for i in range(1, len(arr)):\n",
    "        for j in range(1, target + 1):  \n",
    "            nottake = dp[i-1][j] \n",
    "            take = False\n",
    "            if arr[i] <= j:\n",
    "                take = dp[i-1][j-arr[i]] \n",
    "            dp[i][j] = take or nottake\n",
    "    \n",
    "    return dp[len(arr) - 1][target]  \n",
    "\n",
    "\n",
    "arr = [1, 2, 3, 4]\n",
    "target = 5 \n",
    "dp = [[False] * (target + 1) for _ in range(len(arr))] \n",
    "\n",
    "result = tabulation(arr, target, dp)\n",
    "print(result) \n"
   ]
  }
 ],
 "metadata": {
  "kernelspec": {
   "display_name": "dsavenv",
   "language": "python",
   "name": "python3"
  },
  "language_info": {
   "codemirror_mode": {
    "name": "ipython",
    "version": 3
   },
   "file_extension": ".py",
   "mimetype": "text/x-python",
   "name": "python",
   "nbconvert_exporter": "python",
   "pygments_lexer": "ipython3",
   "version": "3.12.3"
  }
 },
 "nbformat": 4,
 "nbformat_minor": 2
}
