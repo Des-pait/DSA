{
   "cells": [
    {
     "cell_type": "markdown",
     "metadata": {},
     "source": [
      "Partition the given set equally such that sum of each subset will be equal"
     ]
    },
    {
     "cell_type": "code",
     "execution_count": 30,
     "metadata": {},
     "outputs": [],
     "source": [
      "def eqPart(arr):\n",
      "    total = sum(arr)\n",
      "\n",
      "    # If total sum is odd, we cannot partition it equally\n",
      "    if total % 2 != 0:\n",
      "        return False\n",
      "    \n",
      "    idx = len(arr)\n",
      "\n",
      "    target = total // 2\n",
      "\n",
      "    # Create a memoization table for dynamic programming\n",
      "    dp = [[-1] * (target + 1) for _ in range(len(arr))]\n",
      "\n",
      "    def subsum(arr, idx, target, dp):\n",
      "        # If the target is 0, we found a subset with the required sum\n",
      "        if target == 0:\n",
      "            return True\n",
      "        # If we are at the first index, check if the element is equal to the target\n",
      "        if idx == 0:\n",
      "            return arr[0] == target\n",
      "        # If the value has been computed before, return the cached result\n",
      "        if dp[idx][target] != -1:\n",
      "            return dp[idx][target]\n",
      "        \n",
      "        # Recursively check by either not including or including the current element\n",
      "        nottake = subsum(arr, idx - 1, target, dp)\n",
      "        take = False\n",
      "        if arr[idx] <= target:\n",
      "            take = subsum(arr, idx - 1, target - arr[idx], dp)\n",
      "\n",
      "        # Store the result in the dp table\n",
      "        dp[idx][target] = take or nottake\n",
      "\n",
      "        return dp[idx][target]\n",
      "\n",
      "    # Call the recursive function with the initial parameters\n",
      "    return subsum(arr, idx - 1, target, dp)\n"
     ]
    },
    {
     "cell_type": "code",
     "execution_count": 31,
     "metadata": {},
     "outputs": [
      {
       "data": {
        "text/plain": [
         "False"
        ]
       },
       "execution_count": 31,
       "metadata": {},
       "output_type": "execute_result"
      }
     ],
     "source": [
      "arr = [1, 2, 4, 7]\n",
      "print(eqPart(arr))  # Output will be either True or False"
     ]
    }
   ],
   "metadata": {
    "kernelspec": {
     "display_name": "dsavenv",
     "language": "python",
     "name": "python3"
    },
    "language_info": {
     "codemirror_mode": {
      "name": "ipython",
      "version": 3
     },
     "file_extension": ".py",
     "mimetype": "text/x-python",
     "name": "python",
     "nbconvert_exporter": "python",
     "pygments_lexer": "ipython3",
     "version": "3.12.3"
    }
   },
   "nbformat": 4,
   "nbformat_minor": 2
  }
  