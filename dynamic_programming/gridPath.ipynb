{
 "cells": [
  {
   "cell_type": "markdown",
   "metadata": {},
   "source": [
    "To find the number of unique ways to reach the destination in th grid:\n",
    "constraints :: for each i,j subject can move either downward or left position:"
   ]
  },
  {
   "cell_type": "code",
   "execution_count": 65,
   "metadata": {},
   "outputs": [],
   "source": [
    "# memoization approach\n",
    "def uniquePath(i, j, dp):\n",
    "    # base case\n",
    "    if i == 0 and j == 0:\n",
    "        return 1\n",
    "    if i < 0 or j < 0:\n",
    "        return 0\n",
    "    if dp[i][j] != -1:\n",
    "        return dp[i][j]\n",
    "    \n",
    "    up = uniquePath(i-1, j, dp)\n",
    "    left = uniquePath(i, j-1, dp)\n",
    "\n",
    "    dp[i][j] = up + left\n",
    "    return dp[i][j]\n"
   ]
  },
  {
   "cell_type": "code",
   "execution_count": 51,
   "metadata": {},
   "outputs": [],
   "source": [
    "# TABULATION approach\n",
    "def uniqueTab(x, y, dp):\n",
    "    for i in range(x):\n",
    "        for j in range(y):\n",
    "            if i == 0 and j == 0:\n",
    "                dp[i][j] = 1\n",
    "            else:\n",
    "                up = dp[i-1][j] if i > 0 else 0\n",
    "                down = dp[i][j-1] if j > 0 else 0\n",
    "                dp[i][j] = up + down\n",
    "    return dp[x-1][y-1]\n",
    "\n"
   ]
  },
  {
   "cell_type": "code",
   "execution_count": 3,
   "metadata": {},
   "outputs": [
    {
     "data": {
      "text/plain": [
       "[[5645, 45, 6], [5464, 25454, 545], [354, 145, 345]]"
      ]
     },
     "execution_count": 3,
     "metadata": {},
     "output_type": "execute_result"
    }
   ],
   "source": [
    "x = 3\n",
    "y = 3\n",
    "arr = [[0]*x for _ in range(y)]\n",
    "for i in range(x):\n",
    "    for j in range(y):\n",
    "        arr[i][j] = int(input(f'enter the element for arr[{i},{j}] : '))\n",
    "arr\n"
   ]
  },
  {
   "cell_type": "code",
   "execution_count": 66,
   "metadata": {},
   "outputs": [
    {
     "name": "stdout",
     "output_type": "stream",
     "text": [
      "6\n"
     ]
    }
   ],
   "source": [
    "dp = [[-1]*x for _ in range(y)]\n",
    "print(uniquePath(len(arr)-1, len(arr[0])-1, dp))\n",
    "# print(uniqueTab(len(arr), len(arr[0]), dp))\n"
   ]
  }
 ],
 "metadata": {
  "kernelspec": {
   "display_name": "dsavenv",
   "language": "python",
   "name": "python3"
  },
  "language_info": {
   "codemirror_mode": {
    "name": "ipython",
    "version": 3
   },
   "file_extension": ".py",
   "mimetype": "text/x-python",
   "name": "python",
   "nbconvert_exporter": "python",
   "pygments_lexer": "ipython3",
   "version": "3.12.3"
  }
 },
 "nbformat": 4,
 "nbformat_minor": 2
}
