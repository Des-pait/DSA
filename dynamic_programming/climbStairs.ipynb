{
 "cells": [
  {
   "cell_type": "markdown",
   "metadata": {},
   "source": [
    "<!-- Aim is to find out the minimum energy required to climb he stairs -->\n",
    "<!-- a man can climb either one or two stairs at a time -->\n",
    "<!-- energy lost during climbing the stair == abs(differen) -->"
   ]
  },
  {
   "cell_type": "code",
   "execution_count": 22,
   "metadata": {},
   "outputs": [],
   "source": [
    "# To count number of distinct ways to reach the goal for the given problem\n",
    "def countDistinctWays(arr, idx):\n",
    "    if idx==0:                          # i0 = arr = [1, 5, 8, 4, 6], idx = 5    # i0 = arr, idx = 5\n",
    "        return 0                        # i1 = arr , idx == 4 return 5                   # i1 = arr, idx == 3 return 2\n",
    "    if idx==1:                          # i2 = arr, idx == 3 return 2            # i2 = arr, idx == 1 return 1\n",
    "        return 1                        # i3 = arr, idx == 2 return 1            \n",
    "    x = countDistinctWays(arr, idx-1)   # i4 = arr, idx == 1 return 1 \n",
    "    y = countDistinctWays(arr, idx-2)   # i5 = arr, idx == 0 return 0\n",
    "    return x+y"
   ]
  }
 ],
 "metadata": {
  "kernelspec": {
   "display_name": "dsavenv",
   "language": "python",
   "name": "python3"
  },
  "language_info": {
   "codemirror_mode": {
    "name": "ipython",
    "version": 3
   },
   "file_extension": ".py",
   "mimetype": "text/x-python",
   "name": "python",
   "nbconvert_exporter": "python",
   "pygments_lexer": "ipython3",
   "version": "3.12.3"
  }
 },
 "nbformat": 4,
 "nbformat_minor": 2
}
