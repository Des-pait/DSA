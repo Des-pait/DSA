{
 "cells": [
  {
   "cell_type": "code",
   "execution_count": 1,
   "metadata": {},
   "outputs": [],
   "source": [
    "def minCostClimbingStairs(cost, ind):\n",
    "    if ind == 0 or ind == 1:\n",
    "        return 0\n",
    "     \n",
    "    left = minCostClimbingStairs(cost, ind-1) + abs(cost[ind]-cost[ind-1])\n",
    "    if ind > 1:\n",
    "        right = minCostClimbingStairs(cost, ind-2) + abs(cost[ind]-cost[ind-2])\n",
    "    else: \n",
    "        right = 0\n",
    "    return min(left, right)\n"
   ]
  },
  {
   "cell_type": "code",
   "execution_count": 2,
   "metadata": {},
   "outputs": [],
   "source": [
    "# using memoization\n",
    "def minCostClimbingStairs(cost, ind, dp):\n",
    "    if ind == 0 :\n",
    "        return 0\n",
    "    if dp[ind]!=-1:\n",
    "        # print(dp)\n",
    "        return dp[ind]\n",
    "    left = minCostClimbingStairs(cost, ind-1, dp) + abs(cost[ind]-cost[ind-1])\n",
    "    if ind > 1:\n",
    "        right = minCostClimbingStairs(cost, ind-2, dp) + abs(cost[ind]-cost[ind-2])\n",
    "    else: \n",
    "        right = 0\n",
    "    dp[ind] = min(left, right)\n",
    "    # print(dp, right)\n",
    "    return dp[ind]\n"
   ]
  },
  {
   "cell_type": "code",
   "execution_count": 33,
   "metadata": {},
   "outputs": [],
   "source": [
    "# if the man have multiplr otpions to jump stairs i.e, 1, 2, 3\n",
    "def kStep(arr, k, ind, ans, dp):  # k -> a man can jump upto k steps at a time\n",
    "    if ind == 0 or ind == 1:\n",
    "        return 0  \n",
    "    \n",
    "    if dp[ind] != -1:\n",
    "        return dp[ind]\n",
    "    \n",
    "    ans = float('inf')\n",
    "    \n",
    "    for i in range(1, k + 1):\n",
    "        if ind - i >= 0:\n",
    "            right = kStep(arr, k, ind - i, ans, dp) + abs(arr[ind] - arr[ind - i])\n",
    "            ans = min(ans, right) \n",
    "    \n",
    "    dp[ind] = ans\n",
    "\n",
    "    return dp[ind]  "
   ]
  },
  {
   "cell_type": "code",
   "execution_count": 34,
   "metadata": {},
   "outputs": [
    {
     "name": "stdout",
     "output_type": "stream",
     "text": [
      "1\n"
     ]
    }
   ],
   "source": [
    "arr = [2, 5, 3, 1]\n",
    "dp = [-1]*len(arr)\n",
    "# print(minCostClimbingStairs(arr, len(arr)-1, dp))\n",
    "print(kStep(arr, 3, len(arr)-1, float('inf'), dp))"
   ]
  }
 ],
 "metadata": {
  "kernelspec": {
   "display_name": "dsavenv",
   "language": "python",
   "name": "python3"
  },
  "language_info": {
   "codemirror_mode": {
    "name": "ipython",
    "version": 3
   },
   "file_extension": ".py",
   "mimetype": "text/x-python",
   "name": "python",
   "nbconvert_exporter": "python",
   "pygments_lexer": "ipython3",
   "version": "3.12.3"
  }
 },
 "nbformat": 4,
 "nbformat_minor": 2
}
