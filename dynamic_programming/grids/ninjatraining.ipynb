{
 "cells": [
  {
   "cell_type": "markdown",
   "metadata": {},
   "source": [
    "** Each day ninja must do a task such that the task shouldn't be similar to previous day task \n",
    "Aim: find th maximum points ninja can earn by doing tasks **"
   ]
  },
  {
   "cell_type": "code",
   "execution_count": 54,
   "metadata": {},
   "outputs": [],
   "source": [
    "\n",
    "def ninja(arr, last, idx, dp):\n",
    "    if idx == 0:\n",
    "        maxi = 0\n",
    "        for i in range(len(arr[0])):\n",
    "            if i != last:\n",
    "                maxi = max(maxi, arr[0][i])\n",
    "        return maxi\n",
    "\n",
    "    if dp[idx][last] != -1:\n",
    "        return dp[idx][last]\n",
    "\n",
    "    maxi = 0\n",
    "    for i in range(len(arr[0])):\n",
    "        if i != last:\n",
    "            point = arr[idx][i] + ninja(arr, i, idx - 1, dp)\n",
    "            maxi = max(point, maxi)\n",
    "\n",
    "    dp[idx][last] = maxi\n",
    "    return dp[idx][last]\n",
    "\n",
    "\n"
   ]
  },
  {
   "cell_type": "code",
   "execution_count": 71,
   "metadata": {},
   "outputs": [],
   "source": [
    "# tabulation approach\n",
    "\n",
    "def ninja_tab(arr, last, idx, dp):\n",
    "    days = len(arr)\n",
    "    tasks = len(arr[0])\n",
    "\n",
    "    # Base cases for day 0\n",
    "    dp[0][0] = max(arr[0][1], arr[0][2])\n",
    "    dp[0][1] = max(arr[0][0], arr[0][2])\n",
    "    dp[0][2] = max(arr[0][0], arr[0][1])\n",
    "    dp[0][3] = max(arr[0][0], arr[0][1], arr[0][2])\n",
    "\n",
    "    # Fill DP table from day 1 to idx\n",
    "    for day in range(1, days):\n",
    "        for prev in range(tasks + 1):  # 'last' task done previous day\n",
    "            max_points = 0\n",
    "            for task in range(tasks):  # current task\n",
    "                if task != prev:\n",
    "                    points = arr[day][task] + dp[day - 1][task]\n",
    "                    max_points = max(max_points, points)\n",
    "            dp[day][prev] = max_points\n",
    "\n",
    "    return dp[idx][last]\n"
   ]
  },
  {
   "cell_type": "code",
   "execution_count": 1,
   "metadata": {},
   "outputs": [],
   "source": [
    "# space optimization:"
   ]
  },
  {
   "cell_type": "code",
   "execution_count": 66,
   "metadata": {},
   "outputs": [],
   "source": [
    "arr = [[0]*3 for _ in range(3)]\n",
    "for i in range(len(arr)):\n",
    "    for j in range(len(arr[0])):\n",
    "        arr[i][j] = int(input(f'return the value for [{i},{j}] :') )\n"
   ]
  },
  {
   "cell_type": "code",
   "execution_count": 73,
   "metadata": {},
   "outputs": [
    {
     "name": "stdout",
     "output_type": "stream",
     "text": [
      "[[10, 15, 9], [15, 12, 35], [7, 100, 26]]\n",
      "150\n"
     ]
    }
   ],
   "source": [
    "last = 2\n",
    "print(arr)\n",
    "\n",
    "dp = [[-1]*4 for _ in range(len(arr))]\n",
    "print(ninja_tab(arr, 3, len(arr)-1, dp))  # last=3 means no restriction on the first day\n"
   ]
  }
 ],
 "metadata": {
  "kernelspec": {
   "display_name": "dsavenv",
   "language": "python",
   "name": "python3"
  },
  "language_info": {
   "codemirror_mode": {
    "name": "ipython",
    "version": 3
   },
   "file_extension": ".py",
   "mimetype": "text/x-python",
   "name": "python",
   "nbconvert_exporter": "python",
   "pygments_lexer": "ipython3",
   "version": "3.12.3"
  }
 },
 "nbformat": 4,
 "nbformat_minor": 2
}
