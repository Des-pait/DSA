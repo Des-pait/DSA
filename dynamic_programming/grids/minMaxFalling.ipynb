{
 "cells": [
  {
   "cell_type": "markdown",
   "metadata": {},
   "source": [
    "Find the mininimum path sum to reach the last row in a grid:\n",
    "\n",
    "CONSTRAINTS:\n",
    "1) Matrix\n",
    "2) from a location you can move diagonaly downward-right (i+1, j+1) or downward (i+1, j) or downward-left (i+1, j-1)"
   ]
  },
  {
   "cell_type": "code",
   "execution_count": 40,
   "metadata": {},
   "outputs": [],
   "source": [
    "#  memoization approach\n",
    "def minFallingPathSum(arr, i, j, dp):\n",
    "    if i == len(arr) - 1 and j<len(arr[0]):\n",
    "        return arr[i][j]\n",
    "    if j < 0 or j >= len(arr[0]) or i>len(arr)-1:\n",
    "        return float('inf')\n",
    "\n",
    "    if dp[i][j] != -1:\n",
    "        return dp[i][j]\n",
    "\n",
    "    down  = arr[i][j] + minFallingPathSum(arr, i + 1, j, dp)\n",
    "    downl = arr[i][j] + minFallingPathSum(arr, i + 1, j - 1, dp)\n",
    "    downr = arr[i][j] + minFallingPathSum(arr, i + 1, j + 1, dp)\n",
    "\n",
    "    dp[i][j] = min(down, downl, downr)\n",
    "    return dp[i][j]\n",
    "\n",
    "\n"
   ]
  },
  {
   "cell_type": "code",
   "execution_count": 74,
   "metadata": {},
   "outputs": [],
   "source": [
    "# tablation approach\n",
    "def tabulation(arr, dp):\n",
    "    for i in range(len(arr)):\n",
    "        for j in range(len(arr[0])):\n",
    "            if i == 0:\n",
    "                dp[i][j] = arr[i][j]\n",
    "            else:\n",
    "                down = arr[i][j] + dp[i-1][j]\n",
    "                downl = arr[i][j] + dp[i-1][j-1] if j > 0 else float('inf')\n",
    "                downr = arr[i][j] + dp[i-1][j+1] if j < len(arr[0]) - 1 else float('inf')\n",
    "                dp[i][j] =  min(down, downl, downr)\n",
    "\n",
    "    return min(dp[len(arr)-1])\n"
   ]
  },
  {
   "cell_type": "code",
   "execution_count": 75,
   "metadata": {},
   "outputs": [
    {
     "name": "stdout",
     "output_type": "stream",
     "text": [
      "13\n"
     ]
    }
   ],
   "source": [
    "\n",
    "arr = [[100, 2, 3], [4, 5, 6], [7, 8, 9]]\n",
    "dp = [[-1]*len(arr[0]) for _ in range(len(arr))]\n",
    "\n",
    "# mini = float('inf')\n",
    "# for j in range(len(arr[0])):\n",
    "#     val = minFallingPathSum(arr, 0, j, dp)\n",
    "#     mini = min(mini, val)\n",
    "\n",
    "# print(mini)\n",
    "print(tabulation(arr, dp))  "
   ]
  },
  {
   "cell_type": "code",
   "execution_count": null,
   "metadata": {},
   "outputs": [],
   "source": []
  }
 ],
 "metadata": {
  "kernelspec": {
   "display_name": "dsavenv",
   "language": "python",
   "name": "python3"
  },
  "language_info": {
   "codemirror_mode": {
    "name": "ipython",
    "version": 3
   },
   "file_extension": ".py",
   "mimetype": "text/x-python",
   "name": "python",
   "nbconvert_exporter": "python",
   "pygments_lexer": "ipython3",
   "version": "3.12.3"
  }
 },
 "nbformat": 4,
 "nbformat_minor": 2
}
