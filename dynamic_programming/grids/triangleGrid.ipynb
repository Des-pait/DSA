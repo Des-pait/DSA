{
 "cells": [
  {
   "cell_type": "markdown",
   "metadata": {},
   "source": [
    "Find the mininimum path sum to reach the last row in a grid:\n",
    "\n",
    "CONSTRAINTS:\n",
    "1) ith row will have i+1 elements\n",
    "2) from a location you can move diagonaly downward-right (i+1, j+1) or downward (i+1, j)"
   ]
  },
  {
   "cell_type": "code",
   "execution_count": 50,
   "metadata": {},
   "outputs": [],
   "source": [
    "# Memoization Approach\n",
    "\n",
    "def triangle(arr, i, j, dp):\n",
    "    if i == len(arr)-1:\n",
    "        return arr[i][j]\n",
    "    if i>= len(arr) or j >= len(arr) + 1:\n",
    "        return 0\n",
    "    if dp[i][j] != -1:\n",
    "        return dp[i][j]\n",
    "    down = arr[i][j] + triangle(arr, i+1, j, dp)\n",
    "    diar = arr[i][j] + triangle(arr, i+1, j+1, dp)\n",
    "\n",
    "    dp[i][j] = min(down, diar)\n",
    "\n",
    "    return dp[i][j]"
   ]
  },
  {
   "cell_type": "code",
   "execution_count": 111,
   "metadata": {},
   "outputs": [],
   "source": [
    "# Tabulation approach\n",
    "def triangleTab(arr, i, j, dp):\n",
    "    x = len(arr)\n",
    "    for i in range(x):\n",
    "        for j in range(i+1):\n",
    "            # print(i, j)\n",
    "            if i == 0 and j == 0:\n",
    "                dp[i][j] = arr[i][j]\n",
    "            else:\n",
    "                down = arr[i][j] + dp[i-1][j] if i > 0 and j < len(dp[i-1]) else float('inf')\n",
    "                diar = arr[i][j] + dp[i-1][j-1] if j > 0 else float('inf')\n",
    "                dp[i][j] = min(down, diar)\n",
    "            # print(dp[i][j])\n",
    "    return min(dp[x-1])\n",
    "\n"
   ]
  },
  {
   "cell_type": "code",
   "execution_count": 112,
   "metadata": {},
   "outputs": [],
   "source": [
    "# x = int(input('Enter Number of row : '))\n",
    "# arr = [[0]*(i+1) for i in range(x) ]\n",
    "# for i in range(x):\n",
    "#     for j in range(i+1):\n",
    "#         arr[i][j] = int(input(f'Enter element for arr[{i}][{j}] : '))"
   ]
  },
  {
   "cell_type": "code",
   "execution_count": 113,
   "metadata": {},
   "outputs": [],
   "source": [
    "arr = [[1], [10, 7], [8, 5, 2]]\n",
    "x = len(arr)"
   ]
  },
  {
   "cell_type": "code",
   "execution_count": 116,
   "metadata": {},
   "outputs": [
    {
     "name": "stdout",
     "output_type": "stream",
     "text": [
      "10\n"
     ]
    },
    {
     "data": {
      "text/plain": [
       "[[1], [11, 8], [19, 13, 10]]"
      ]
     },
     "execution_count": 116,
     "metadata": {},
     "output_type": "execute_result"
    }
   ],
   "source": [
    "dp = [[-1]*(i+1) for i in range(x) ]\n",
    "# print(triangle(arr, 0, 0, dp))\n",
    "print(triangleTab(arr, 0, 0, dp))\n",
    "dp\n"
   ]
  }
 ],
 "metadata": {
  "kernelspec": {
   "display_name": "dsavenv",
   "language": "python",
   "name": "python3"
  },
  "language_info": {
   "codemirror_mode": {
    "name": "ipython",
    "version": 3
   },
   "file_extension": ".py",
   "mimetype": "text/x-python",
   "name": "python",
   "nbconvert_exporter": "python",
   "pygments_lexer": "ipython3",
   "version": "3.12.3"
  }
 },
 "nbformat": 4,
 "nbformat_minor": 2
}
