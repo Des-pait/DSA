{
 "cells": [
  {
   "cell_type": "markdown",
   "metadata": {},
   "source": [
    "Find the maximum number of the cherry's pickedup by alice and bob:\n",
    "\n",
    "CONSTRAINTS:\n",
    "1) Alice and Bob will move to next row simultaneously\n",
    "2) both can move in either down (i+1, j), down-left (i+1, j-1), down-right (i+1, j+1)\n",
    "3) if alice and bob both are in same row only one can pick the cherry\n",
    "4) once the cherry's picked by any one of them the number's of that i,j will be turned to 0\n",
    "5) Initially both alice and bob stood in same row alice in first column and bob at last column"
   ]
  },
  {
   "cell_type": "code",
   "execution_count": 18,
   "metadata": {},
   "outputs": [],
   "source": [
    "# Recursion\n",
    "def cherry(arr, i, j1, j2):\n",
    "    x = len(arr)-1\n",
    "    y = len(arr[0])\n",
    "    if i<0 or j1<0 or j2<0 or j2>y-1 or j1>y-1 or i>x:\n",
    "        return 0\n",
    "    maxi = 0\n",
    "    for dj1 in range(-1,2):\n",
    "        for dj2 in range(-1,2):\n",
    "            if j1==j2:\n",
    "                maxi = max(maxi, arr[i][j1] + cherry(arr, i+1, j1+dj1, j2+dj2))\n",
    "                print('if :', cherry(arr, i+1, j1+dj1, j2+dj2))\n",
    "            else:\n",
    "                maxi = max(maxi, arr[i][j1] + arr[i][j2] + cherry(arr, i+1, j1+dj1, j2+dj2))\n",
    "                print('else:',maxi)\n",
    "    return maxi"
   ]
  },
  {
   "cell_type": "code",
   "execution_count": 60,
   "metadata": {},
   "outputs": [],
   "source": [
    "# memoization approach\n",
    "def cherry(arr, i, j1, j2, dp):\n",
    "    x = len(arr)-1\n",
    "    y = len(arr[0])\n",
    "    \n",
    "    if i<0 or j1<0 or j2<0 or j2>y-1 or j1>y-1 or i>x:\n",
    "        return 0\n",
    "    \n",
    "    if dp[i][j1][j2] != -1 :\n",
    "        return dp[i][j1][j2]\n",
    "        \n",
    "    maxi = 0\n",
    "\n",
    "    for dj1 in range(-1,2):\n",
    "        for dj2 in range(-1,2):\n",
    "            if j1==j2:\n",
    "                maxi = max(maxi, arr[i][j1] + cherry(arr, i+1, j1+dj1, j2+dj2, dp))\n",
    "                # print('if :', cherry(arr, i+1, j1+dj1, j2+dj2))\n",
    "            else:\n",
    "                maxi = max(maxi, arr[i][j1] + arr[i][j2] + cherry(arr, i+1, j1+dj1, j2+dj2, dp))\n",
    "                # print('else:',maxi)\n",
    "    dp[i][j1][j2] = maxi\n",
    "    return dp[i][j1][j2]"
   ]
  },
  {
   "cell_type": "code",
   "execution_count": null,
   "metadata": {},
   "outputs": [],
   "source": [
    "\n",
    "    "
   ]
  },
  {
   "cell_type": "code",
   "execution_count": 61,
   "metadata": {},
   "outputs": [
    {
     "name": "stdout",
     "output_type": "stream",
     "text": [
      "131\n"
     ]
    }
   ],
   "source": [
    "arr = [[100, 2, 3], [4, 5, 6], [7, 8, 9]]\n",
    "\n",
    "# dp = [([-1]*len(arr[0]) for k in range(len(arr[0]))) for _ in range(len(arr))]\n",
    "dp = [ [[-1]*len(arr[0]) for k in range(len(arr[0]))] for _ in range(len(arr))]\n",
    "print(cherry(arr, 0, 0, 2, dp))"
   ]
  },
  {
   "cell_type": "code",
   "execution_count": null,
   "metadata": {},
   "outputs": [],
   "source": []
  }
 ],
 "metadata": {
  "kernelspec": {
   "display_name": "dsavenv",
   "language": "python",
   "name": "python3"
  },
  "language_info": {
   "codemirror_mode": {
    "name": "ipython",
    "version": 3
   },
   "file_extension": ".py",
   "mimetype": "text/x-python",
   "name": "python",
   "nbconvert_exporter": "python",
   "pygments_lexer": "ipython3",
   "version": "3.12.3"
  }
 },
 "nbformat": 4,
 "nbformat_minor": 2
}
