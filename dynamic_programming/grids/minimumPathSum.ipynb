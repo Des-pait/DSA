{
 "cells": [
  {
   "cell_type": "markdown",
   "metadata": {},
   "source": [
    "find the minimum cost to reach the destination in the GRID"
   ]
  },
  {
   "cell_type": "code",
   "execution_count": 2,
   "metadata": {},
   "outputs": [
    {
     "data": {
      "text/plain": [
       "[[1, 2, 3], [4, 5, 6], [7, 8, 9]]"
      ]
     },
     "execution_count": 2,
     "metadata": {},
     "output_type": "execute_result"
    }
   ],
   "source": [
    "x = 3\n",
    "y = 3\n",
    "arr = [[0]*x for _ in range(y)]\n",
    "for i in range(x):\n",
    "    for j in range(y):\n",
    "        arr[i][j] = int(input(f'enter the element for arr[{i},{j}] : '))\n",
    "arr"
   ]
  },
  {
   "cell_type": "code",
   "execution_count": 10,
   "metadata": {},
   "outputs": [],
   "source": [
    "# memoization approach\n",
    "def minSum(arr, i, j, dp):\n",
    "    if i == 0 and j == 0:\n",
    "        return arr[0][0]\n",
    "    if i < 0 or j < 0:\n",
    "        return float('inf') \n",
    "    if dp[i][j] != -1:\n",
    "        return dp[i][j]\n",
    "\n",
    "    up = arr[i][j] + minSum(arr, i-1, j, dp)\n",
    "    right = arr[i][j] + minSum(arr, i, j-1, dp)\n",
    "\n",
    "    dp[i][j] = min(up, right)\n",
    "    return dp[i][j]\n"
   ]
  },
  {
   "cell_type": "code",
   "execution_count": 25,
   "metadata": {},
   "outputs": [],
   "source": [
    "# Tabulation approach:\n",
    "def sumTab(arr, x, y, dp):\n",
    "    for i in range(x):\n",
    "        for j in range(y):\n",
    "            if i == 0 and j == 0:\n",
    "                dp[i][j] = arr[i][j]  # must needed to declared inside loop\n",
    "            else:\n",
    "                up = dp[i-1][j] if i > 0 else float('inf')\n",
    "                left = dp[i][j-1] if j > 0 else float('inf')\n",
    "                dp[i][j] = arr[i][j] + min(up, left)\n",
    "    return dp[x-1][y-1]\n"
   ]
  },
  {
   "cell_type": "code",
   "execution_count": 26,
   "metadata": {},
   "outputs": [
    {
     "name": "stdout",
     "output_type": "stream",
     "text": [
      "21\n"
     ]
    }
   ],
   "source": [
    "dp = [[-1]*3 for _ in range(3)]\n",
    "# print(minSum(arr, len(arr)-1, len(arr[0])-1, dp))\n",
    "print(sumTab(arr, len(arr), len(arr[0]), dp))"
   ]
  }
 ],
 "metadata": {
  "kernelspec": {
   "display_name": "dsavenv",
   "language": "python",
   "name": "python3"
  },
  "language_info": {
   "codemirror_mode": {
    "name": "ipython",
    "version": 3
   },
   "file_extension": ".py",
   "mimetype": "text/x-python",
   "name": "python",
   "nbconvert_exporter": "python",
   "pygments_lexer": "ipython3",
   "version": "3.12.3"
  }
 },
 "nbformat": 4,
 "nbformat_minor": 2
}
