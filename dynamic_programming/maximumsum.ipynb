{
 "cells": [
  {
   "cell_type": "code",
   "execution_count": 1,
   "metadata": {},
   "outputs": [],
   "source": [
    "# To find maximum sum of non-adjecent elements:"
   ]
  },
  {
   "cell_type": "code",
   "execution_count": 2,
   "metadata": {},
   "outputs": [],
   "source": [
    "def _sum(idx, arr, dp):\n",
    "    if dp[idx]!= -1:\n",
    "        return dp[idx]\n",
    "    \n",
    "    if idx == 0:\n",
    "        return arr[idx]\n",
    "    if idx<0:\n",
    "        return 0\n",
    "    pick = arr[idx] + _sum(idx-2, arr, dp)\n",
    "    print(pick)\n",
    "    notpick = _sum(idx-1, arr, dp)\n",
    "\n",
    "    dp[idx] = max(pick, notpick)\n",
    "\n",
    "    return dp[idx]"
   ]
  },
  {
   "cell_type": "code",
   "execution_count": 3,
   "metadata": {},
   "outputs": [],
   "source": [
    "# tabulation approach\n",
    "def _tab( arr, dp):\n",
    "    \n",
    "    dp[0] = arr[0]\n",
    "\n",
    "    for idx in range(2, len(arr)):         \n",
    "        pick = arr[idx] + dp[idx-2]\n",
    "        print(pick)\n",
    "        notpick = dp[idx-1]\n",
    "\n",
    "        dp[idx] = max(pick, notpick)\n",
    "\n",
    "    return dp[idx]"
   ]
  },
  {
   "cell_type": "code",
   "execution_count": 4,
   "metadata": {},
   "outputs": [
    {
     "name": "stdout",
     "output_type": "stream",
     "text": [
      "2\n",
      "8\n",
      "21\n",
      "51\n",
      "28\n",
      "51\n",
      "21\n",
      "8\n",
      "28\n",
      "51\n",
      "51\n"
     ]
    }
   ],
   "source": [
    "arr = [1, 2, 20, 6, 7, 30]\n",
    "dp = [-1]*len(arr)\n",
    "print(_sum(len(arr)-1, arr, dp))\n",
    "print(_tab(arr, dp))"
   ]
  }
 ],
 "metadata": {
  "kernelspec": {
   "display_name": "dsavenv",
   "language": "python",
   "name": "python3"
  },
  "language_info": {
   "codemirror_mode": {
    "name": "ipython",
    "version": 3
   },
   "file_extension": ".py",
   "mimetype": "text/x-python",
   "name": "python",
   "nbconvert_exporter": "python",
   "pygments_lexer": "ipython3",
   "version": "3.12.3"
  }
 },
 "nbformat": 4,
 "nbformat_minor": 2
}
