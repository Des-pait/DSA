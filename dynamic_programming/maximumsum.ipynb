{
 "cells": [
  {
   "cell_type": "code",
   "execution_count": 1,
   "metadata": {},
   "outputs": [],
   "source": [
    "# To find maximum sum of non-adjecent elements:"
   ]
  },
  {
   "cell_type": "code",
   "execution_count": 21,
   "metadata": {},
   "outputs": [],
   "source": [
    "def _sum(idx, arr, dp):\n",
    "    if dp[idx]!= -1:\n",
    "        return dp[idx]\n",
    "    \n",
    "    if idx == 0:\n",
    "        return arr[idx]\n",
    "    if idx<0:\n",
    "        return 0\n",
    "    pick = arr[idx] + _sum(idx-2, arr, dp)\n",
    "    print(pick)\n",
    "    notpick = _sum(idx-1, arr, dp)\n",
    "\n",
    "    dp[idx] = max(pick, notpick)\n",
    "\n",
    "    return dp[idx]"
   ]
  },
  {
   "cell_type": "code",
   "execution_count": 25,
   "metadata": {},
   "outputs": [
    {
     "name": "stdout",
     "output_type": "stream",
     "text": [
      "2\n",
      "8\n",
      "21\n",
      "51\n",
      "28\n",
      "51\n"
     ]
    }
   ],
   "source": [
    "arr = [1, 2, 20, 6, 7, 30]\n",
    "dp = [-1]*len(arr)\n",
    "print(_sum(len(arr)-1, arr, dp))"
   ]
  }
 ],
 "metadata": {
  "kernelspec": {
   "display_name": "dsavenv",
   "language": "python",
   "name": "python3"
  },
  "language_info": {
   "codemirror_mode": {
    "name": "ipython",
    "version": 3
   },
   "file_extension": ".py",
   "mimetype": "text/x-python",
   "name": "python",
   "nbconvert_exporter": "python",
   "pygments_lexer": "ipython3",
   "version": "3.12.3"
  }
 },
 "nbformat": 4,
 "nbformat_minor": 2
}
