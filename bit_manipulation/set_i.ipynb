{
 "cells": [
  {
   "cell_type": "code",
   "execution_count": 192,
   "metadata": {},
   "outputs": [],
   "source": [
    "# binary conversion:\n",
    "\n",
    "def binary(num):\n",
    "    stack = []\n",
    "    if num == 1 or num == 0:\n",
    "        return 1\n",
    "    if num<0: # store -ve num\n",
    "        # Number of bits we want (e.g., 8-bit, 16-bit, etc.)\n",
    "        # We can use Python's bit-length method to determine the number of bits for the absolute value.\n",
    "        bit_length = num.bit_length()+1  # Adding 1 for Two's complement\n",
    "        # print(bit_length)\n",
    "        # Get the Two's complement representation\n",
    "        num = (1 << bit_length) + num  # (1 << bit_length) creates a mask for the binary width\n",
    "        # print(num)\n",
    "    while num>=0:\n",
    "        stack.append(num%2)\n",
    "        num = num//2\n",
    "        if num==0:\n",
    "            return stack[::-1]\n",
    "\n"
   ]
  },
  {
   "cell_type": "code",
   "execution_count": 193,
   "metadata": {},
   "outputs": [
    {
     "name": "stdout",
     "output_type": "stream",
     "text": [
      "[1, 0, 1, 1]\n",
      "3 -5\n",
      "5\n"
     ]
    }
   ],
   "source": [
    "num = -5\n",
    "print(binary(num))\n",
    "print(num.bit_length(), num)  # length of bit in num\n",
    "print(~(num)+1) # negative decimal to positive decimal and vice versa\n"
   ]
  },
  {
   "cell_type": "code",
   "execution_count": 194,
   "metadata": {},
   "outputs": [
    {
     "name": "stdout",
     "output_type": "stream",
     "text": [
      "[1, 0, 0, 1] and [1, 0]\n",
      "11 [1, 0, 1, 1] [1, 0, 0]\n"
     ]
    }
   ],
   "source": [
    "# Aim is to set ith bit to 1 or 0\n",
    "#  set 2nd bit to 1 in 7 \n",
    "x = 9\n",
    "i = 2\n",
    "print(binary(x),\"and\",binary(i))\n",
    "i = 1<<i\n",
    "ans = x | 2\n",
    "print(ans, binary(ans), binary(i))\n",
    "\n"
   ]
  },
  {
   "cell_type": "code",
   "execution_count": 199,
   "metadata": {},
   "outputs": [
    {
     "name": "stdout",
     "output_type": "stream",
     "text": [
      "[1, 1, 1] and [1, 0]\n",
      "[1, 0, 0] 4\n",
      "[1, 0, 1, 1] -5\n",
      "3 [1, 1] [1, 0, 1, 1]\n"
     ]
    }
   ],
   "source": [
    "#  set 2nd bit to 0 in 7\n",
    "x = 7\n",
    "i = 2\n",
    "print(binary(x),\"and\",binary(i))\n",
    "i = 1<<i\n",
    "print(binary(i), i)\n",
    "i = ~i\n",
    "print(binary(i),i) # python uses 2's complement to represent -ve nums\n",
    "ans = x & i\n",
    "print(ans, binary(ans), binary(i))\n"
   ]
  },
  {
   "cell_type": "code",
   "execution_count": 205,
   "metadata": {},
   "outputs": [
    {
     "name": "stdout",
     "output_type": "stream",
     "text": [
      "80\n"
     ]
    }
   ],
   "source": [
    "print(88&87)"
   ]
  }
 ],
 "metadata": {
  "kernelspec": {
   "display_name": "dsavenv",
   "language": "python",
   "name": "python3"
  },
  "language_info": {
   "codemirror_mode": {
    "name": "ipython",
    "version": 3
   },
   "file_extension": ".py",
   "mimetype": "text/x-python",
   "name": "python",
   "nbconvert_exporter": "python",
   "pygments_lexer": "ipython3",
   "version": "3.12.3"
  }
 },
 "nbformat": 4,
 "nbformat_minor": 2
}
