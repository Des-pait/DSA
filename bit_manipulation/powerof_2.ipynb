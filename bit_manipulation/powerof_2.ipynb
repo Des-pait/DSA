{
 "cells": [
  {
   "cell_type": "code",
   "execution_count": 1,
   "metadata": {},
   "outputs": [],
   "source": [
    "from binary import binary\n",
    "binary = binary.binary"
   ]
  },
  {
   "cell_type": "code",
   "execution_count": 5,
   "metadata": {},
   "outputs": [
    {
     "name": "stdout",
     "output_type": "stream",
     "text": [
      "[1, 0, 0, 1]\n",
      "[1, 0, 0, 0]\n",
      "No, the num is not power of 2\n"
     ]
    }
   ],
   "source": [
    "# check whether num is power of 2 or not\n",
    "x = 9\n",
    "print(binary(x))\n",
    "print(binary(x-1))\n",
    "if (x & (x-1)) == 0:\n",
    "    print('Yes, the num is power of 2')\n",
    "else:\n",
    "    print('No, the num is not power of 2')"
   ]
  }
 ],
 "metadata": {
  "kernelspec": {
   "display_name": "dsavenv",
   "language": "python",
   "name": "python3"
  },
  "language_info": {
   "codemirror_mode": {
    "name": "ipython",
    "version": 3
   },
   "file_extension": ".py",
   "mimetype": "text/x-python",
   "name": "python",
   "nbconvert_exporter": "python",
   "pygments_lexer": "ipython3",
   "version": "3.12.3"
  }
 },
 "nbformat": 4,
 "nbformat_minor": 2
}
