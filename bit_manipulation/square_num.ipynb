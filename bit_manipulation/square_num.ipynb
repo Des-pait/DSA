{
 "cells": [
  {
   "cell_type": "code",
   "execution_count": 36,
   "metadata": {},
   "outputs": [
    {
     "name": "stdout",
     "output_type": "stream",
     "text": [
      "0 101 1\n",
      "1 1010 0\n",
      "2 10100 0\n",
      "5\n"
     ]
    }
   ],
   "source": [
    "\n",
    "# to find square of a number\n",
    "\n",
    "num  = 5\n",
    "\n",
    "# ans = 0\n",
    "# for i in range(num):\n",
    "#     ans += num\n",
    "# print(ans) \n",
    "\n"
   ]
  },
  {
   "cell_type": "code",
   "execution_count": 37,
   "metadata": {},
   "outputs": [
    {
     "name": "stdout",
     "output_type": "stream",
     "text": [
      "3 0\n",
      "6 1\n",
      "6\n"
     ]
    }
   ],
   "source": [
    "#  another method\n",
    "\n",
    "num = 3\n",
    "ans = 0\n",
    "a = 2 # traverse each bit of num by a by shifting num to right and a to left\n",
    "while 0<a:\n",
    "    print(num, a&1)\n",
    "    if a&1:   # simply we are checking here that the set bit is present or not if yes then ans = ans + num\n",
    "        ans += num\n",
    "    num <<= 1\n",
    "    a >>= 1\n",
    "print(ans)"
   ]
  },
  {
   "cell_type": "code",
   "execution_count": null,
   "metadata": {},
   "outputs": [],
   "source": []
  }
 ],
 "metadata": {
  "kernelspec": {
   "display_name": "dsavenv",
   "language": "python",
   "name": "python3"
  },
  "language_info": {
   "codemirror_mode": {
    "name": "ipython",
    "version": 3
   },
   "file_extension": ".py",
   "mimetype": "text/x-python",
   "name": "python",
   "nbconvert_exporter": "python",
   "pygments_lexer": "ipython3",
   "version": "3.12.3"
  }
 },
 "nbformat": 4,
 "nbformat_minor": 2
}
