{
 "cells": [
  {
   "cell_type": "code",
   "execution_count": 22,
   "metadata": {},
   "outputs": [
    {
     "name": "stdout",
     "output_type": "stream",
     "text": [
      "[1.0, 0.0, 0]\n"
     ]
    }
   ],
   "source": [
    "def binary(num):\n",
    "    stack = []\n",
    "    while num>=1:\n",
    "        stack.append(num%2)\n",
    "        num = num/2\n",
    "    return stack[::-1]\n",
    "print(binary(4))\n",
    "# stack = []\n",
    "# def binary(num):\n",
    "#     if num==0:\n",
    "#         return stack[::-1]\n",
    "#     stack.append(num%2)\n",
    "#     return binary(num//2)\n",
    "# print(binary(4))"
   ]
  },
  {
   "cell_type": "code",
   "execution_count": 23,
   "metadata": {},
   "outputs": [
    {
     "name": "stdout",
     "output_type": "stream",
     "text": [
      "yes the bit is present\n"
     ]
    }
   ],
   "source": [
    "x = 13\n",
    "\n",
    "# check if 2nd bit is present in x or not\n",
    "i = 2\n",
    "\n",
    "# left shift 1 by i:\n",
    "i = 1<<2\n",
    "\n",
    "# check i AND x if >=1 then yes else No\n",
    "ans = x&i\n",
    "if ans>=1:\n",
    "    print('yes the bit is present')\n",
    "else:\n",
    "    print('No bit present')"
   ]
  },
  {
   "cell_type": "code",
   "execution_count": 27,
   "metadata": {},
   "outputs": [
    {
     "name": "stdout",
     "output_type": "stream",
     "text": [
      "yes bit present\n"
     ]
    }
   ],
   "source": [
    "#  USing right shift\n",
    "i = 2\n",
    "\n",
    "# right shift x by i:\n",
    "n = x>>i\n",
    "\n",
    "# check n AND x:\n",
    "ans = n&x\n",
    "\n",
    "# convert to binary:\n",
    "b = binary(ans)\n",
    "\n",
    "# check for decimal place:\n",
    "b = b[-1]\n",
    "if b==1:\n",
    "    print('yes bit present')\n",
    "else:\n",
    "    print('bit not present')\n",
    "\n",
    "\n",
    "#  need error handling for i>len(binary(num)):\n",
    "# ---------------------------------------------------------------------------\n",
    "# IndexError                                Traceback (most recent call last)\n",
    "# Cell In[26], line 15\n",
    "#      12 print(b)\n",
    "#      14 # check for decimal place:\n",
    "# ---> 15 b = b[-1]\n",
    "#      16 if b==1:\n",
    "#      17     print('yes bit present')\n",
    "\n",
    "# IndexError: list index out of range"
   ]
  },
  {
   "cell_type": "code",
   "execution_count": null,
   "metadata": {},
   "outputs": [],
   "source": []
  }
 ],
 "metadata": {
  "kernelspec": {
   "display_name": "dsavenv",
   "language": "python",
   "name": "python3"
  },
  "language_info": {
   "codemirror_mode": {
    "name": "ipython",
    "version": 3
   },
   "file_extension": ".py",
   "mimetype": "text/x-python",
   "name": "python",
   "nbconvert_exporter": "python",
   "pygments_lexer": "ipython3",
   "version": "3.12.3"
  }
 },
 "nbformat": 4,
 "nbformat_minor": 2
}
