{
 "cells": [
  {
   "cell_type": "code",
   "execution_count": 1,
   "metadata": {},
   "outputs": [],
   "source": [
    "import binary\n",
    "binary = binary.binary.binary"
   ]
  },
  {
   "cell_type": "code",
   "execution_count": 2,
   "metadata": {},
   "outputs": [
    {
     "data": {
      "text/plain": [
       "<function binary.binary.binary(num)>"
      ]
     },
     "execution_count": 2,
     "metadata": {},
     "output_type": "execute_result"
    }
   ],
   "source": [
    "binary"
   ]
  },
  {
   "cell_type": "code",
   "execution_count": 3,
   "metadata": {},
   "outputs": [
    {
     "name": "stdout",
     "output_type": "stream",
     "text": [
      "13 : [1, 1, 0, 1]\n",
      " 7 : [1, 1, 1]\n",
      "2\n"
     ]
    }
   ],
   "source": [
    "# minimun num of flip reuired to convert x to goal\n",
    "\n",
    "x = 13\n",
    "y = 7\n",
    "print(f'13 : {binary(x)}\\n', f'7 : {binary(y)}')\n",
    "\n",
    "ans  = x^y # to identify set bits of y present in x\n",
    "\n",
    "l = max(x.bit_length(), y.bit_length())\n",
    "count = 0\n",
    "for _ in range(l):\n",
    "    if ans&(1<<_)>=1: # identify set bits needs to be flipped\n",
    "        count += 1\n",
    "print(count)\n"
   ]
  },
  {
   "cell_type": "markdown",
   "metadata": {},
   "source": []
  },
  {
   "cell_type": "code",
   "execution_count": 5,
   "metadata": {},
   "outputs": [
    {
     "name": "stdout",
     "output_type": "stream",
     "text": [
      "1\n"
     ]
    }
   ],
   "source": [
    "print(2>>1)"
   ]
  }
 ],
 "metadata": {
  "kernelspec": {
   "display_name": "dsavenv",
   "language": "python",
   "name": "python3"
  },
  "language_info": {
   "codemirror_mode": {
    "name": "ipython",
    "version": 3
   },
   "file_extension": ".py",
   "mimetype": "text/x-python",
   "name": "python",
   "nbconvert_exporter": "python",
   "pygments_lexer": "ipython3",
   "version": "3.12.3"
  }
 },
 "nbformat": 4,
 "nbformat_minor": 2
}
