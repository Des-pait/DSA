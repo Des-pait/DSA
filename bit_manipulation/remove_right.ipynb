{
 "cells": [
  {
   "cell_type": "code",
   "execution_count": 2,
   "metadata": {},
   "outputs": [],
   "source": [
    "from binary import binary\n",
    "binary = binary.binary"
   ]
  },
  {
   "cell_type": "code",
   "execution_count": 31,
   "metadata": {},
   "outputs": [
    {
     "name": "stdout",
     "output_type": "stream",
     "text": [
      "binary of 10 is : [1, 0, 1, 0]\n",
      "binary of 9 is : [1, 0, 0, 1]\n",
      "Answer is : [1, 0, 0, 0]\n"
     ]
    }
   ],
   "source": [
    "# to remove last (right most) set bit \n",
    "x = 10\n",
    "print(f'binary of {x} is :',binary(x))\n",
    "\n",
    "# in case of EVEN nums only:\n",
    "ans = x & (x-1)\n",
    "print(f'binary of {x-1} is :',binary(x-1))\n",
    "\n",
    "print('Answer is :', binary(ans))\n"
   ]
  },
  {
   "cell_type": "code",
   "execution_count": null,
   "metadata": {},
   "outputs": [],
   "source": []
  }
 ],
 "metadata": {
  "kernelspec": {
   "display_name": "dsavenv",
   "language": "python",
   "name": "python3"
  },
  "language_info": {
   "codemirror_mode": {
    "name": "ipython",
    "version": 3
   },
   "file_extension": ".py",
   "mimetype": "text/x-python",
   "name": "python",
   "nbconvert_exporter": "python",
   "pygments_lexer": "ipython3",
   "version": "3.12.3"
  }
 },
 "nbformat": 4,
 "nbformat_minor": 2
}
